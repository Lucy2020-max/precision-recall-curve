{
 "cells": [
  {
   "cell_type": "code",
   "execution_count": 1,
   "id": "e45e6199",
   "metadata": {},
   "outputs": [],
   "source": [
    "# Import required modules.\n",
    "import pandas as pd\n",
    "import matplotlib.pyplot as plt\n",
    "from sklearn import datasets\n",
    "from sklearn.model_selection import train_test_split\n",
    "from sklearn.svm import SVC\n",
    "from sklearn.metrics import classification_report, recall_score, precision_score, accuracy_score"
   ]
  },
  {
   "cell_type": "code",
   "execution_count": 2,
   "id": "55833bd1",
   "metadata": {},
   "outputs": [],
   "source": [
    "# Get the data.\n",
    "data_set = datasets.load_breast_cancer()"
   ]
  },
  {
   "cell_type": "code",
   "execution_count": 3,
   "id": "d88cbf09",
   "metadata": {},
   "outputs": [],
   "source": [
    "def precision_recall(data_set):\n",
    "    # Read the data into an array form.\n",
    "    x = data_set.data     # feature x.\n",
    "    y = data_set.target   # target variable y.\n",
    "  \n",
    "    # Read the names of the features.\n",
    "    feature_list = data_set.feature_names\n",
    "  \n",
    "    # Convert the data into a data frame.\n",
    "    data_frame = pd.DataFrame(x, columns = feature_list)\n",
    "  \n",
    "    # To insert an output column in data_frame.\n",
    "    data_frame.insert((len(x[0])), 'output', y)      \n",
    "  \n",
    "    # Train Test Split.\n",
    "    x_train, x_test, y_train, y_test = train_test_split(x, y, test_size = 0.2, random_state = 42)\n",
    "  \n",
    "    # Create Classifier Object.\n",
    "    clf = SVC()\n",
    "    clf.fit(x_train, y_train)\n",
    "  \n",
    "    # Use decision_function method.\n",
    "    decision_function = clf.decision_function(x_test)\n",
    "    print(decision_function)\n",
    "\n",
    "    # Actual obtained results without any manual setting of Decision Threshold.\n",
    "    predict_actual = clf.predict(x_test)       # Predict using classifier.\n",
    "    accuracy_actual = clf.score(x_test, y_test)\n",
    "    classification_report_actual = classification_report(y_test, predict_actual)\n",
    "    print(predict_actual, accuracy_actual, classification_report_actual, sep ='\\n')\n",
    "\n",
    "    # Plot Precision-Recall curve using sklearn.\n",
    "    from sklearn.metrics import precision_recall_curve\n",
    "    precision, recall, threshold = precision_recall_curve(y_test, decision_function)\n",
    "    return data_frame,precision,recall,threshold"
   ]
  },
  {
   "cell_type": "code",
   "execution_count": 4,
   "id": "a19d3e06",
   "metadata": {},
   "outputs": [
    {
     "name": "stdout",
     "output_type": "stream",
     "text": [
      "[ 0.8976884  -2.75199014 -1.26050508  1.53710971  1.59976125 -2.53621802\n",
      " -2.04353503 -1.40775105  1.24589218  0.89420924  1.19050321 -1.63080211\n",
      "  0.68837134 -0.23233281  1.36425546 -1.54874514  0.79342176  1.67715251\n",
      "  1.48623464 -2.45491776  0.39730515  1.33258439 -2.26985192  1.59922552\n",
      "  1.5631612   1.3508229   1.24729373  1.67095866  1.34935275 -2.87084175\n",
      "  1.60378204  1.44584565  1.53768789  0.59146438  1.6172028   1.45268697\n",
      " -1.18366547  1.39072004 -2.59757296  0.53461528  1.60141981 -0.75250193\n",
      "  1.55573443  1.34930089  1.61131808  1.38347829  1.5872994   1.6005464\n",
      "  1.30749313  1.32022265 -2.27665163 -2.65584519  1.14969309  1.18745271\n",
      "  1.49170612  0.95058087  1.60743492 -1.34426643  0.7238304   1.5730383\n",
      "  1.19016526 -2.53328703 -2.18520251  0.86836758  1.42729093  1.16098675\n",
      " -1.78823985 -2.35100038  1.55175432  1.14864878  0.41058649 -1.90602282\n",
      "  1.0716773  -0.25456476  1.50216344  1.09548468  0.90834203  0.34586538\n",
      "  1.54420189  1.50682432 -1.29941273  1.46151938  0.48575123 -2.37288631\n",
      " -1.76940298 -0.09099385  0.72494038 -2.23591507  1.58969209  1.2860999\n",
      "  1.29834525  0.81631446  0.28828897  1.60402738  1.62643531  1.57948666\n",
      " -2.47296763 -1.40717769  1.60868772 -1.69679186 -1.78392476  1.63610032\n",
      " -2.65589872 -1.88976248  1.34324769  1.30948968  1.38997438 -1.31015055\n",
      "  0.70556726  0.40439863 -1.531885    1.49876758  0.6835135  -0.98390928]\n",
      "[1 0 0 1 1 0 0 0 1 1 1 0 1 0 1 0 1 1 1 0 1 1 0 1 1 1 1 1 1 0 1 1 1 1 1 1 0\n",
      " 1 0 1 1 0 1 1 1 1 1 1 1 1 0 0 1 1 1 1 1 0 1 1 1 0 0 1 1 1 0 0 1 1 1 0 1 0\n",
      " 1 1 1 1 1 1 0 1 1 0 0 0 1 0 1 1 1 1 1 1 1 1 0 0 1 0 0 1 0 0 1 1 1 0 1 1 0\n",
      " 1 1 0]\n",
      "0.9473684210526315\n",
      "              precision    recall  f1-score   support\n",
      "\n",
      "           0       1.00      0.86      0.92        43\n",
      "           1       0.92      1.00      0.96        71\n",
      "\n",
      "    accuracy                           0.95       114\n",
      "   macro avg       0.96      0.93      0.94       114\n",
      "weighted avg       0.95      0.95      0.95       114\n",
      "\n"
     ]
    }
   ],
   "source": [
    "data_frame,precision,recall,threshold = precision_recall(data_set)"
   ]
  },
  {
   "cell_type": "code",
   "execution_count": 5,
   "id": "37300ac3",
   "metadata": {},
   "outputs": [
    {
     "data": {
      "text/plain": [
       "Text(0.5, 1.0, 'Precision-Recall Curve')"
      ]
     },
     "execution_count": 5,
     "metadata": {},
     "output_type": "execute_result"
    },
    {
     "data": {
      "image/png": "[encoded data removed]",
      "text/plain": [
       "<Figure size 432x288 with 1 Axes>"
      ]
     },
     "metadata": {
      "needs_background": "light"
     },
     "output_type": "display_data"
    }
   ],
   "source": [
    "# Plot the output.\n",
    "plt.plot(threshold, precision[:-1], c ='r', label ='PRECISION')\n",
    "plt.plot(threshold, recall[:-1], c ='b', label ='RECALL')\n",
    "plt.grid()\n",
    "plt.legend()\n",
    "plt.title('Precision-Recall Curve')"
   ]
  },
  {
   "cell_type": "code",
   "execution_count": null,
   "id": "c77b1998",
   "metadata": {},
   "outputs": [],
   "source": []
  }
 ],
 "metadata": {
  "kernelspec": {
   "display_name": "Python 3",
   "language": "python",
   "name": "python3"
  },
  "language_info": {
   "codemirror_mode": {
    "name": "ipython",
    "version": 3
   },
   "file_extension": ".py",
   "mimetype": "text/x-python",
   "name": "python",
   "nbconvert_exporter": "python",
   "pygments_lexer": "ipython3",
   "version": "3.8.8"
  }
 },
 "nbformat": 4,
 "nbformat_minor": 5
}
